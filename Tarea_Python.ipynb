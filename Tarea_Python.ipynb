{
  "nbformat": 4,
  "nbformat_minor": 0,
  "metadata": {
    "colab": {
      "provenance": [],
      "authorship_tag": "ABX9TyP9bLQbzzOkqg1EB3/Q8OyG",
      "include_colab_link": true
    },
    "kernelspec": {
      "name": "python3",
      "display_name": "Python 3"
    },
    "language_info": {
      "name": "python"
    }
  },
  "cells": [
    {
      "cell_type": "markdown",
      "metadata": {
        "id": "view-in-github",
        "colab_type": "text"
      },
      "source": [
        "<a href=\"https://colab.research.google.com/github/Eliseo128/Tarea_Curso_Python/blob/main/Tarea_Python.ipynb\" target=\"_parent\"><img src=\"https://colab.research.google.com/assets/colab-badge.svg\" alt=\"Open In Colab\"/></a>"
      ]
    },
    {
      "cell_type": "markdown",
      "source": [
        "(ex1)Entrada/Salida\n",
        "- Calcular el área y perímetro de un rectángulo. Python"
      ],
      "metadata": {
        "id": "GFf6liiS5Etm"
      }
    },
    {
      "cell_type": "code",
      "execution_count": 1,
      "metadata": {
        "colab": {
          "base_uri": "https://localhost:8080/"
        },
        "id": "RqgDDcI_4-Bb",
        "outputId": "481cfd2e-892b-4082-e299-6c9ad35ef40b"
      },
      "outputs": [
        {
          "output_type": "stream",
          "name": "stdout",
          "text": [
            "Ingrese la longitud del rectángulo: 5\n",
            "Ingrese el ancho del rectángulo: 3\n",
            "El área del rectángulo es: 15.0\n",
            "El perímetro del rectángulo es: 16.0\n"
          ]
        }
      ],
      "source": [
        "# Solicitar al usuario que ingrese la longitud y el ancho del rectángulo\n",
        "longitud = float(input(\"Ingrese la longitud del rectángulo: \"))\n",
        "ancho = float(input(\"Ingrese el ancho del rectángulo: \"))\n",
        "\n",
        "# Calcular el área y el perímetro\n",
        "area = longitud * ancho\n",
        "\n",
        "# Calcular el perímetro\n",
        "perimetro = 2 * (longitud + ancho)\n",
        "\n",
        "# Mostrar los resultados\n",
        "print(\"El área del rectángulo es:\", area)\n",
        "print(\"El perímetro del rectángulo es:\", perimetro)\n"
      ]
    },
    {
      "cell_type": "markdown",
      "source": [
        "(ex2) Entrada/Salida\n",
        "## (Convert Celsius to Fahrenheit)\n",
        "- Write a program that reads a Celsius degree in a double value from the console, then converts it to Fahrenheit and displays the result.\n",
        "- The formula for the conversion is as follows:\n",
        "## fahrenheit = (9 / 5) * celsius + 32"
      ],
      "metadata": {
        "id": "x5vBW_WL6kuO"
      }
    },
    {
      "cell_type": "code",
      "source": [
        "# El usuario Ingresa Grados Celcius\n",
        "celsius = float(input(\"Ingrese grados Celcius: \"))\n",
        "\n",
        "# Convertir Celsius a Fahrenheit\n",
        "fahrenheit = (9 / 5) * celsius + 32\n",
        "\n",
        "# Resultado\n",
        "print(f\"{celsius} Celsius is {fahrenheit} Fahrenheit\")\n"
      ],
      "metadata": {
        "colab": {
          "base_uri": "https://localhost:8080/"
        },
        "id": "jkg7t-vs7KMh",
        "outputId": "f3cae2b1-f3fb-4fff-fd8a-54433606a1c6"
      },
      "execution_count": 2,
      "outputs": [
        {
          "output_type": "stream",
          "name": "stdout",
          "text": [
            "Ingrese grados Celcius: 100\n",
            "100.0 Celsius is 212.0 Fahrenheit\n"
          ]
        }
      ]
    },
    {
      "cell_type": "markdown",
      "source": [
        "(ex3) Decisiones\n",
        "\n",
        "Determinar el mayor de cuatro números diferentes.\n",
        "## metodo 1"
      ],
      "metadata": {
        "id": "gSMQGX3h73Om"
      }
    },
    {
      "cell_type": "code",
      "source": [
        "# Solicitar al usuario que ingrese 4 números enteros\n",
        "num1 = int(input(\"Ingrese el primer número: \"))\n",
        "num2 = int(input(\"Ingrese el segundo número: \"))\n",
        "num3 = int(input(\"Ingrese el tercer número: \"))\n",
        "num4 = int(input(\"Ingrese el cuarto número: \"))\n",
        "\n",
        "# Determinar el mayor de los 4 números\n",
        "mayor = num1  # Suponemos que el primer número es el mayor inicialmente\n",
        "\n",
        "if num2 > mayor:\n",
        "    mayor = num2\n",
        "if num3 > mayor:\n",
        "    mayor = num3\n",
        "if num4 > mayor:\n",
        "    mayor = num4\n",
        "\n",
        "# Mostrar el resultado\n",
        "print(f\"El mayor de los números ingresados es: {mayor}\")\n"
      ],
      "metadata": {
        "colab": {
          "base_uri": "https://localhost:8080/"
        },
        "id": "Yb3zqCg278XV",
        "outputId": "7d0ea003-4d53-477b-d1a7-b1c88f3cd784"
      },
      "execution_count": 9,
      "outputs": [
        {
          "output_type": "stream",
          "name": "stdout",
          "text": [
            "Ingrese el primer número: 20\n",
            "Ingrese el segundo número: 10\n",
            "Ingrese el tercer número: 12\n",
            "Ingrese el cuarto número: 8\n",
            "El mayor de los números ingresados es: 20\n"
          ]
        }
      ]
    },
    {
      "cell_type": "markdown",
      "source": [
        "(ex3) Decisiones\n",
        "\n",
        "Determinar el mayor de cuatro números diferentes.\n",
        "## metodo 2"
      ],
      "metadata": {
        "id": "duElzXgu-KUl"
      }
    },
    {
      "cell_type": "code",
      "source": [
        "# Solicitar al usuario que ingrese 4 números enteros\n",
        "num1 = int(input(\"Ingrese el primer número: \"))\n",
        "num2 = int(input(\"Ingrese el segundo número: \"))\n",
        "num3 = int(input(\"Ingrese el tercer número: \"))\n",
        "num4 = int(input(\"Ingrese el cuarto número: \"))\n",
        "\n",
        "# Determinar el mayor de los 4 números usando la función max\n",
        "mayor = max(num1, num2, num3, num4)\n",
        "\n",
        "# Mostrar el resultado\n",
        "print(f\"El mayor de los números ingresados es: {mayor}\")\n"
      ],
      "metadata": {
        "colab": {
          "base_uri": "https://localhost:8080/"
        },
        "id": "azV50TXP-P1_",
        "outputId": "fe299628-e68a-46f7-b185-c2555b6bf82c"
      },
      "execution_count": 8,
      "outputs": [
        {
          "output_type": "stream",
          "name": "stdout",
          "text": [
            "Ingrese el primer número: 20\n",
            "Ingrese el segundo número: 10\n",
            "Ingrese el tercer número: 12\n",
            "Ingrese el cuarto número: 8\n",
            "El mayor de los números ingresados es: 20\n"
          ]
        }
      ]
    },
    {
      "cell_type": "markdown",
      "source": [
        "(ex4) Decisiones\n",
        "### Calcular el sueldo semanal de un trabajador en base a las horas trabajadas y el pago por hora trabajada.\n",
        "- Horas ordinarias (40 primeras horas de trabajo). Se paga X pesos por hora.\n",
        "- Horas extras 1.5 veces precio hora ordinaria (Después de las 40 horas trabajadas)"
      ],
      "metadata": {
        "id": "yXT3SBBg-cB0"
      }
    },
    {
      "cell_type": "code",
      "source": [
        "# Solicitar al usuario las horas trabajadas y el pago por hora\n",
        "horas_trabajadas = float(input(\"Ingrese las horas trabajadas esta semana: \"))\n",
        "pago_por_hora = float(input(\"Ingrese el pago por hora (en pesos): \"))\n",
        "\n",
        "# Definir el límite de horas ordinarias\n",
        "HORAS_ORDINARIAS = 40\n",
        "\n",
        "# Calcular el sueldo semanal\n",
        "if horas_trabajadas <= HORAS_ORDINARIAS:\n",
        "    # Si no hay horas extras, solo se pagan las horas ordinarias\n",
        "    sueldo_semanal = horas_trabajadas * pago_por_hora\n",
        "else:\n",
        "    # Si hay horas extras, se calculan las horas ordinarias y las extras\n",
        "    horas_extras = horas_trabajadas - HORAS_ORDINARIAS\n",
        "    sueldo_semanal = (HORAS_ORDINARIAS * pago_por_hora) + (horas_extras * pago_por_hora * 1.5)\n",
        "\n",
        "# Mostrar el resultado\n",
        "print(f\"El sueldo semanal es: {sueldo_semanal:.2f} pesos\")\n"
      ],
      "metadata": {
        "colab": {
          "base_uri": "https://localhost:8080/"
        },
        "id": "-eISocnT-6CF",
        "outputId": "c9f75432-4f2d-46f6-e065-3a1ad4fa4039"
      },
      "execution_count": 7,
      "outputs": [
        {
          "output_type": "stream",
          "name": "stdout",
          "text": [
            "Ingrese las horas trabajadas esta semana: 43\n",
            "Ingrese el pago por hora (en pesos): 50\n",
            "El sueldo semanal es: 2225.00 pesos\n"
          ]
        }
      ]
    },
    {
      "cell_type": "markdown",
      "source": [
        "(ex5) Ciclos\n",
        "- Se requiere un programa para determinar, de N cantidades, cuántas son cero, cuántas son menores a cero, y cuántas son mayores a cero."
      ],
      "metadata": {
        "id": "MUbPYRjIBLB8"
      }
    },
    {
      "cell_type": "code",
      "source": [
        "def contar_numeros(N):\n",
        "    # Inicializar contadores\n",
        "    ceros = 0\n",
        "    menores_cero = 0\n",
        "    mayores_cero = 0\n",
        "\n",
        "    # Pedir N números y clasificarlos\n",
        "    for i in range(N):\n",
        "        numero = float(input(f\"Ingrese el número {i + 1}: \"))  # Solicitar cada número\n",
        "        if numero == 0:\n",
        "            ceros += 1\n",
        "        elif numero < 0:\n",
        "            menores_cero += 1\n",
        "        else:\n",
        "            mayores_cero += 1\n",
        "\n",
        "    # Mostrar resultados\n",
        "    print(f\"\\nCantidad de números iguales a cero: {ceros}\")\n",
        "    print(f\"Cantidad de números menores a cero: {menores_cero}\")\n",
        "    print(f\"Cantidad de números mayores a cero: {mayores_cero}\")\n",
        "\n",
        "\n",
        "# Pedir al usuario la cantidad de números (N)\n",
        "N = int(input(\"Ingrese la cantidad de números (N): \"))\n",
        "\n",
        "# Llamar a la función para contar los números\n",
        "contar_numeros(N)"
      ],
      "metadata": {
        "colab": {
          "base_uri": "https://localhost:8080/"
        },
        "id": "8IlPpRx9BX71",
        "outputId": "c02245ee-c281-4a64-9fbb-3cf45744deb5"
      },
      "execution_count": 3,
      "outputs": [
        {
          "output_type": "stream",
          "name": "stdout",
          "text": [
            "Ingrese la cantidad de números (N): 3\n",
            "Ingrese el número 1: 2\n",
            "Ingrese el número 2: 0\n",
            "Ingrese el número 3: -1\n",
            "\n",
            "Cantidad de números iguales a cero: 1\n",
            "Cantidad de números menores a cero: 1\n",
            "Cantidad de números mayores a cero: 1\n"
          ]
        }
      ]
    },
    {
      "cell_type": "markdown",
      "source": [
        "(ex6) Ciclos\n",
        "- La siguiente se llama la conjetura de ULAM en honor del matemático S. Ulam:\n",
        "- Comience con cualquier entero positivo\n",
        "- Si es par, divídalo entre 2; si es impar, multiplíquelo por 3 y agréguele 1.\n",
        "- Obtenga enteros sucesivamente repitiendo el proceso.\n",
        "### Al final, obtendrá el número 1, independientemente del entero inicial. Por ejemplo, cuando el entero inicial es 26, la secuencia será: 26, 13, 40, 20, 10, 5, 16, 8, 4, 2, 1.\n",
        "Construya un diagrama de flujo que lea un entero positivo y obtenga e imprima la sucesión de ULAM"
      ],
      "metadata": {
        "id": "aUhMmhPHBr_E"
      }
    },
    {
      "cell_type": "code",
      "source": [
        "def secuencia_ulam(n: int) -> list:\n",
        "    \"\"\"\n",
        "    Genera la secuencia de Ulam (Collatz) para un número entero positivo n.\n",
        "\n",
        "    Parámetros:\n",
        "    n: Entero positivo inicial.\n",
        "\n",
        "    Retorna:\n",
        "    Una lista con la secuencia de Ulam.\n",
        "    \"\"\"\n",
        "    secuencia = [n]  # Inicializa la secuencia con el número inicial\n",
        "    while n != 1:\n",
        "        if n % 2 == 0:  # Si n es par\n",
        "            n = n // 2\n",
        "        else:  # Si n es impar\n",
        "            n = n * 3 + 1\n",
        "        secuencia.append(n)  # Agrega el nuevo valor a la secuencia\n",
        "    return secuencia\n",
        "\n",
        "# Solicitar al usuario un entero positivo\n",
        "try:\n",
        "    numero = int(input(\"Ingrese un entero positivo: \"))\n",
        "    if numero <= 0:\n",
        "        print(\"Por favor, ingrese un número entero positivo.\")\n",
        "    else:\n",
        "        # Obtener e imprimir la secuencia de Ulam\n",
        "        secuencia = secuencia_ulam(numero)\n",
        "        print(\"Secuencia de Ulam:\")\n",
        "        print(secuencia)\n",
        "except ValueError:\n",
        "    print(\"Entrada inválida. Por favor, ingrese un número entero.\")\n"
      ],
      "metadata": {
        "colab": {
          "base_uri": "https://localhost:8080/"
        },
        "id": "ZA1V846JCglk",
        "outputId": "528b8935-fb04-4a74-ce48-35d44e85de38"
      },
      "execution_count": 4,
      "outputs": [
        {
          "output_type": "stream",
          "name": "stdout",
          "text": [
            "Ingrese un entero positivo: 26\n",
            "Secuencia de Ulam:\n",
            "[26, 13, 40, 20, 10, 5, 16, 8, 4, 2, 1]\n"
          ]
        }
      ]
    },
    {
      "cell_type": "markdown",
      "source": [
        "(ex7) Funciones\n",
        "- Escribir un programa para calcular la distancia entre 2 puntos en un plano cartesiano."
      ],
      "metadata": {
        "id": "zTUDnPhECzss"
      }
    },
    {
      "cell_type": "code",
      "source": [
        "import math\n",
        "\n",
        "def get_distancia_2puntos(x1: int, y1: int, x2: int, y2: int) -> float:\n",
        "    \"\"\"\n",
        "    Calcula la distancia entre dos puntos en un plano cartesiano.\n",
        "\n",
        "    Parámetros:\n",
        "    x1, y1: Coordenadas del primer punto.\n",
        "    x2, y2: Coordenadas del segundo punto.\n",
        "\n",
        "    Retorna:\n",
        "    La distancia entre los dos puntos como un valor float.\n",
        "    \"\"\"\n",
        "    distancia = math.sqrt((x2 - x1)**2 + (y2 - y1)**2)\n",
        "    return distancia\n",
        "\n",
        "# Ejemplo de uso\n",
        "x1 = int(input(\"Ingrese la coordenada x del primer punto: \"))\n",
        "y1 = int(input(\"Ingrese la coordenada y del primer punto: \"))\n",
        "x2 = int(input(\"Ingrese la coordenada x del segundo punto: \"))\n",
        "y2 = int(input(\"Ingrese la coordenada y del segundo punto: \"))\n",
        "\n",
        "distancia = get_distancia_2puntos(x1, y1, x2, y2)\n",
        "print(f\"La distancia entre los puntos ({x1}, {y1}) y ({x2}, {y2}) es: {distancia:.2f}\")\n"
      ],
      "metadata": {
        "colab": {
          "base_uri": "https://localhost:8080/"
        },
        "id": "DWL9zZFaDIfl",
        "outputId": "f44df9db-da85-4d7a-fbfe-b653af725f99"
      },
      "execution_count": 5,
      "outputs": [
        {
          "output_type": "stream",
          "name": "stdout",
          "text": [
            "Ingrese la coordenada x del primer punto: 5\n",
            "Ingrese la coordenada y del primer punto: 2\n",
            "Ingrese la coordenada x del segundo punto: 1\n",
            "Ingrese la coordenada y del segundo punto: 5\n",
            "La distancia entre los puntos (5, 2) y (1, 5) es: 5.00\n"
          ]
        }
      ]
    },
    {
      "cell_type": "markdown",
      "source": [
        "(ex8) Funciones\n",
        "- Escribir un programa que dado el valor de n, muestre un cuadrado relleno de asteriscos (el mismo número de filas y columnas).\n",
        "\n"
      ],
      "metadata": {
        "id": "4ca9mjMmCZhM"
      }
    },
    {
      "cell_type": "code",
      "source": [
        "def imprimir_cuadrado(lado):\n",
        "  \"\"\" Imprime un cuadrado de asteriscos de lado n. \"\"\"\n",
        "  for _ in range(lado):\n",
        "    print(\"*\" * lado)\n",
        "\n",
        "# Pedir al usuario el valor de n\n",
        "lado = int(input(\"Ingrese el lado del cuadrado: \"))\n",
        "\n",
        "# Imprimir el cuadrado\n",
        "imprimir_cuadrado(lado)\n",
        "\n"
      ],
      "metadata": {
        "colab": {
          "base_uri": "https://localhost:8080/"
        },
        "id": "g8D8EQYMEHe7",
        "outputId": "7fc42040-0660-42fd-a5f9-1ca585640a40"
      },
      "execution_count": 6,
      "outputs": [
        {
          "output_type": "stream",
          "name": "stdout",
          "text": [
            "Ingrese el lado del cuadrado: 4\n",
            "****\n",
            "****\n",
            "****\n",
            "****\n"
          ]
        }
      ]
    }
  ]
}